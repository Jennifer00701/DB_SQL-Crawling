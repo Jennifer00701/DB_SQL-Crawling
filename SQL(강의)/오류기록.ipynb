{
 "cells": [
  {
   "cell_type": "code",
   "execution_count": null,
   "metadata": {
    "vscode": {
     "languageId": "sql"
    }
   },
   "outputs": [],
   "source": [
    "''' 실행 안되는 오류 '''\n",
    "\n",
    "-- create database testdatabase; -- 테스트 데이터베이스 생성\n",
    "-- use testdatabase; -- 테스트 데이터베이스를 사용하겠다.\n",
    "\n",
    "create table user(  -- 테이블 이름을 만들어주세요 -> 테이블 네임은 user\n",
    "    id int auto_increment primary key, -- 아이디 값은 int(숫자), primary(고유한값(유일))을 만들거다 (auto_increment - 숫자 1씩증가)\n",
    "    username varchar(30) not null, -- 필드(컬럼)은 username 이라는 걸 만들거다 (30글자 안으로) - null값 넣을 수 없다는 규칙을 줌\n",
    "    email varchar(100) unique, -- (100글자 안으로)\n",
    "    is_business varchar(10) default false, -- 비즈니스 계정을 신청해서 받으면 트루로 바꿔준다.\n",
    "    age int check (age >= 10) -- 나이 체크 10살이거나 낮으면\n",
    ");\n",
    "\n",
    "-- 24/02/02 \n",
    "-- 데이터를 실행 후 다시 입력할 때는 Drop table 을 한 후에 Refresh 를 눌러야지 정상 실행이 되며 ,를 잊지 말자 ! \n"
   ]
  },
  {
   "cell_type": "code",
   "execution_count": null,
   "metadata": {
    "vscode": {
     "languageId": "sql"
    }
   },
   "outputs": [],
   "source": [
    "''' 크롤링 파싱 ''' \n",
    "\n",
    "# 페이지를 변경 해 태그를 가져오는 과정에서 어떠한 태그를 가져와도 \n",
    "# 어떤한 내용도 가져와지지 않았던 문제.\n",
    "\n",
    "driver.find_element(By.LINK_TEXT, \"티켓\").click()\n",
    "\n",
    "html = driver.page_source\n",
    "soup = BeautifulSoup(html, \"html.parser\")\n",
    "\n",
    "# 이 부분이 핵심 !\n",
    "# 콘서트 패스티벌 랭킹 순위로 이동 하였지만 그 부분에서의 html/css/js 코드는이전과는 분명 다름 \n",
    "# 그렇기 때문에 다시 한번 코드를 받아와서파싱을 진행해야 \n",
    "# 그 위치에서 찾고자 하는 클래스, 아이디, 태그 등등을 찾을 수 있음\n",
    "\n",
    "# 화면이 바뀔 때 그 화면의 소스를 다시 가져와야 함 "
   ]
  },
  {
   "cell_type": "code",
   "execution_count": null,
   "metadata": {
    "vscode": {
     "languageId": "sql"
    }
   },
   "outputs": [],
   "source": [
    "'''row_count 오류'''\n",
    "\n",
    "use testdatabase;\n",
    "select * from users;\n",
    "\n",
    "update users set username = '변경'\n",
    "where user_id = 5; \n",
    "\n",
    "select row_count();\n",
    "\n",
    "24/02/05\n",
    "\n",
    "변경 후 row_count 로 확인해보면\n",
    "-1 이라고 뜨는 문제 \n",
    "\n",
    "[ 해결 못함 ]"
   ]
  }
 ],
 "metadata": {
  "language_info": {
   "name": "python"
  }
 },
 "nbformat": 4,
 "nbformat_minor": 2
}
